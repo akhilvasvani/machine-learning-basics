{
 "cells": [
  {
   "cell_type": "markdown",
   "metadata": {},
   "source": [
    "<h1><font color=\"darkblue\">Trees</font></h1>\n",
    "\n",
    "- Recursive data structures\n",
    "\n",
    "> **Recursion**<br/>\n",
    "> To know recursion, you must first know recursion.\n",
    "\n",
    "> **Recursive Acronyms** <br/>\n",
    ">   GNU: GNU is Not Unix <br/>\n",
    ">   LAME: LAME Ain't an MP3 Encoder<br/>\n",
    ">   PIP: PIP Installs Packages\n",
    "\n",
    "- Used everywhere\n",
    "\n",
    "> Searches, decisions, etc...\n"
   ]
  },
  {
   "cell_type": "code",
   "execution_count": 1,
   "metadata": {},
   "outputs": [],
   "source": [
    "import numpy as np\n",
    "import matplotlib.pyplot as plt"
   ]
  },
  {
   "cell_type": "code",
   "execution_count": 2,
   "metadata": {},
   "outputs": [],
   "source": [
    "# factorial using recursion\n",
    "def f(n):\n",
    "    if n>0: return n * f(n-1)\n",
    "    else: return 1"
   ]
  },
  {
   "cell_type": "code",
   "execution_count": 3,
   "metadata": {},
   "outputs": [
    {
     "data": {
      "text/plain": [
       "120"
      ]
     },
     "execution_count": 3,
     "metadata": {},
     "output_type": "execute_result"
    }
   ],
   "source": [
    "f(5)"
   ]
  },
  {
   "cell_type": "code",
   "execution_count": 4,
   "metadata": {},
   "outputs": [
    {
     "data": {
      "text/plain": [
       "array([ 24, 120,   2])"
      ]
     },
     "execution_count": 4,
     "metadata": {},
     "output_type": "execute_result"
    }
   ],
   "source": [
    "func = np.vectorize(f)\n",
    "func([4,5,2])"
   ]
  },
  {
   "cell_type": "markdown",
   "metadata": {},
   "source": [
    "### Binary Tree\n",
    "- Connected nodes - special tree structures\n",
    "\n",
    "> There is one root node\n",
    "\n",
    "> Every node has maximum two nodes (left, right)\n",
    "\n",
    "> Leaves are the terminal nodes\n",
    "\n",
    "<img src=\"https://upload.wikimedia.org/wikipedia/commons/f/f7/Binary_tree.svg\" alt=\"Binary tree.svg\" height=\"250\" width=\"200\" align=left>\n",
    "<!--\n",
    "<img src=\"files/Binary_tree.svg\" alt=\"Binary tree.svg\" height=\"250\" width=\"200\" align=left>\n",
    "-->"
   ]
  },
  {
   "cell_type": "code",
   "execution_count": 5,
   "metadata": {},
   "outputs": [],
   "source": [
    "class node(object):\n",
    "    \n",
    "    def __init__(self, data, left=None, right=None):\n",
    "        self.data = data\n",
    "        self.left = left\n",
    "        self.right = right\n",
    "   \n",
    "    def __repr__(self, i=0):\n",
    "        s = '\\t'*i + '[' + repr(self.data) + '] \\n'\n",
    "        if self.left is not None:  \n",
    "            s += self.left.__repr__(i+1)\n",
    "        if self.right: # same thing\n",
    "            s += self.right.__repr__(i+1)\n",
    "        return s\n",
    "    \n",
    "    def search(self, n):\n",
    "        if self.search_sub(n):\n",
    "            return \"Found number \"+str(n)\n",
    "        else:\n",
    "            return \"Didn't found number \"+str(n)\n",
    "        \n",
    "        \n",
    "    def search_sub(self, n):\n",
    "        if self is None:\n",
    "            return False\n",
    "        if (self.data == n):\n",
    "            return True\n",
    "        \n",
    "        result_left, result_right = False, False\n",
    "        if self.left is not None:\n",
    "            result_left = self.left.search_sub(n)\n",
    "        if self.right is not None:\n",
    "            result_right = self.right.search_sub(n)\n",
    "        \n",
    "        return result_left or result_right"
   ]
  },
  {
   "cell_type": "code",
   "execution_count": 6,
   "metadata": {},
   "outputs": [
    {
     "data": {
      "text/plain": [
       "[2] \n",
       "\t[7] \n",
       "\t\t[2] \n",
       "\t\t[6] \n",
       "\t\t\t[5] \n",
       "\t\t\t[11] \n",
       "\t[5] \n",
       "\t\t[9] \n",
       "\t\t\t[4] "
      ]
     },
     "execution_count": 6,
     "metadata": {},
     "output_type": "execute_result"
    }
   ],
   "source": [
    "root = node(2, \n",
    "            node(7,\n",
    "                 node(2), \n",
    "                 node(6, node(5), node(11))),\n",
    "            node(5, None,\n",
    "                 node(9, node(4)))\n",
    "           )\n",
    "\n",
    "root"
   ]
  },
  {
   "cell_type": "code",
   "execution_count": 7,
   "metadata": {},
   "outputs": [
    {
     "name": "stdout",
     "output_type": "stream",
     "text": [
      "2\n"
     ]
    }
   ],
   "source": [
    "print (root.left.left.data)"
   ]
  },
  {
   "cell_type": "code",
   "execution_count": 8,
   "metadata": {},
   "outputs": [
    {
     "data": {
      "text/plain": [
       "[2] \n",
       "\t[7] \n",
       "\t\t[2] \n",
       "\t\t\t[99] \n",
       "\t\t\t[999] \n",
       "\t\t[6] \n",
       "\t\t\t[5] \n",
       "\t\t\t[11] \n",
       "\t[5] \n",
       "\t\t[9] \n",
       "\t\t\t[4] "
      ]
     },
     "execution_count": 8,
     "metadata": {},
     "output_type": "execute_result"
    }
   ],
   "source": [
    "root.left.left.left = node(99)\n",
    "root.left.left.right = node(999)\n",
    "root"
   ]
  },
  {
   "cell_type": "code",
   "execution_count": 9,
   "metadata": {},
   "outputs": [
    {
     "data": {
      "text/plain": [
       "9"
      ]
     },
     "execution_count": 9,
     "metadata": {},
     "output_type": "execute_result"
    }
   ],
   "source": [
    "root.right.right.data"
   ]
  },
  {
   "cell_type": "code",
   "execution_count": 10,
   "metadata": {},
   "outputs": [
    {
     "name": "stdout",
     "output_type": "stream",
     "text": [
      "Didn't found number 100\n"
     ]
    }
   ],
   "source": [
    "print(root.search(100))"
   ]
  },
  {
   "cell_type": "markdown",
   "metadata": {},
   "source": [
    "### $n$-ary Tree"
   ]
  },
  {
   "cell_type": "code",
   "execution_count": 11,
   "metadata": {},
   "outputs": [],
   "source": [
    "class node(object):\n",
    "    \n",
    "    def __init__(self, data, children=[]):\n",
    "        self.data = data\n",
    "        self.children = children\n",
    "        \n",
    "    def __repr__(self, i=0):\n",
    "        s = '\\t'*i + repr(self.data) + '\\n' \n",
    "        for child in self.children:\n",
    "            s += child.__repr__(i+1)\n",
    "        return s"
   ]
  },
  {
   "cell_type": "code",
   "execution_count": 12,
   "metadata": {},
   "outputs": [
    {
     "data": {
      "text/plain": [
       "2\n",
       "\t7\n",
       "\t\t2\n",
       "\t\t6\n",
       "\t\t\t5\n",
       "\t\t\t11\n",
       "\t5\n",
       "\t\t9\n",
       "\t\t\t4"
      ]
     },
     "execution_count": 12,
     "metadata": {},
     "output_type": "execute_result"
    }
   ],
   "source": [
    "# build a tree\n",
    "root = node(2, [ \n",
    "            node(7, [\n",
    "                node(2),\n",
    "                node(6, [\n",
    "                        node(5), \n",
    "                        node(11)])]),\n",
    "            node(5, [\n",
    "                node(9, [node(4)])])\n",
    "            ]);\n",
    "\n",
    "root"
   ]
  },
  {
   "cell_type": "code",
   "execution_count": 13,
   "metadata": {},
   "outputs": [
    {
     "data": {
      "text/plain": [
       "2\n",
       "\t7\n",
       "\t\t2\n",
       "\t\t6\n",
       "\t\t\t5\n",
       "\t\t\t11\n",
       "\t5\n",
       "\t\t9\n",
       "\t\t\t4\n",
       "\t999"
      ]
     },
     "execution_count": 13,
     "metadata": {},
     "output_type": "execute_result"
    }
   ],
   "source": [
    "root.children.append(node(999))\n",
    "root"
   ]
  },
  {
   "cell_type": "markdown",
   "metadata": {},
   "source": [
    "### Trees are everywhere!\n",
    "\n",
    "- Searching\n",
    "\n",
    "> $k$d-trees, B-tree, R-tree, ball trees, etc...\n",
    "\n",
    "> E.g., for nearest neighbor searches\n",
    "\n",
    "- Decisions \n",
    "\n",
    "> E.g., for classification "
   ]
  },
  {
   "cell_type": "markdown",
   "metadata": {},
   "source": [
    "### $k$-d tree\n",
    "\n",
    "- Balanced tree\n",
    "- Split along axes\n",
    "\n",
    "Constructed from points, see Figure from Wikipedia<br/>\n",
    "{ (2,3), (5,4), (9,6), (4,7), (8,1), (7,2) }\n",
    "\n",
    "<img src=\"https://upload.wikimedia.org/wikipedia/commons/thumb/b/bf/Kdtree_2d.svg/1200px-Kdtree_2d.svg.png\" alt=\"Kdtree 2d.svg\" width=300 align=left> \n",
    "<!--\n",
    "<img src=\"files/1200px-Kdtree_2d.svg.png\" alt=\"Kdtree 2d.svg\" width=300 align=left> \n",
    "-->\n",
    "\n"
   ]
  },
  {
   "cell_type": "markdown",
   "metadata": {},
   "source": [
    "##### <h1><font color=\"darkblue\">Decision Tree</font></h1>\n",
    "\n",
    "- Recursive partitioning of the training dataset\n",
    "\n",
    "> At a given node with dataset $D$ we look for the\n",
    "> best split \n",
    "\n",
    "> $\\theta = $ (feature $j$, threshold $t$) \n",
    "\n",
    "> such that the \n",
    "> partitions $D_{\\textrm{left}}(\\theta)$ and $D_{\\textrm{right}}(\\theta)$ have minimal *impurity*\n",
    "\n",
    "> $\\displaystyle I(\\theta) = \\frac{n_{\\textrm{left}}}{n}\\, H\\Big(D_{\\textrm{left}}(\\theta)\\Big) + \\frac{n_{\\textrm{right}}}{n}\\,H\\Big(D_{\\textrm{right}}(\\theta)\\Big)$\n",
    "\n",
    "- Different impurity functions $H(\\cdot)$\n",
    "\n",
    "> E.g., Gini with $K$ classes in the partition $D$\n",
    "\n",
    ">$\\displaystyle H(D) = \\sum_{i=1}^K p_i (1-p_i)$\n",
    "\n",
    "> Or variance for regression\n"
   ]
  },
  {
   "cell_type": "code",
   "execution_count": 14,
   "metadata": {},
   "outputs": [
    {
     "data": {
      "image/png": "[encoded data removed]",
      "text/plain": [
       "<Figure size 216x108 with 1 Axes>"
      ]
     },
     "metadata": {
      "needs_background": "light"
     },
     "output_type": "display_data"
    }
   ],
   "source": [
    "x = np.linspace(0,1,100)\n",
    "plt.figure(figsize=(3,1.5)); plt.plot(x, x*(1-x));"
   ]
  },
  {
   "cell_type": "markdown",
   "metadata": {},
   "source": [
    "### Toy Example"
   ]
  },
  {
   "cell_type": "code",
   "execution_count": 15,
   "metadata": {},
   "outputs": [
    {
     "data": {
      "image/png": "[encoded data removed]",
      "text/plain": [
       "<Figure size 216x216 with 1 Axes>"
      ]
     },
     "metadata": {
      "needs_background": "light"
     },
     "output_type": "display_data"
    }
   ],
   "source": [
    "X = np.array([[.7,0],[1,.3],[1.1,0],[.9,0],[1,0],[1,-.1],[1,.1],[1,.2]],\n",
    "             dtype=np.float)\n",
    "c = np.array([ 0,0,0,0, 1,1,1, 2], dtype=np.float)\n",
    "plt.figure(figsize=(3,3))\n",
    "plt.subplot(111,aspect='equal'); plt.scatter(X[:,0],X[:,1],c=c,cmap='brg');"
   ]
  },
  {
   "cell_type": "markdown",
   "metadata": {},
   "source": [
    "### Gini impurity of a partition\n",
    "\n",
    "- We have 3 classes total hence the sum for the entire dataset is\n",
    "\n",
    ">$ \\displaystyle H = \\frac{4}{8}\\left(1\\!-\\!\\frac{4}{8}\\right) \n",
    "     + \\frac{3}{8}\\left(1\\!-\\!\\frac{3}{8}\\right) \n",
    "     + \\frac{1}{8}\\left(1\\!-\\!\\frac{1}{8}\\right) $ $ \\displaystyle = \\frac{16}{64}\n",
    "     + \\frac{15}{64}\n",
    "     + \\frac{7}{64}\n",
    "     = \\frac{19}{32} = 0.59375$\n",
    "     \n",
    "- This is the root of the tree"
   ]
  },
  {
   "cell_type": "markdown",
   "metadata": {},
   "source": [
    "### Impurity of 2 partitions after first split\n",
    "\n",
    "- The root partition contains 3 classes hence the sum is\n",
    "\n",
    ">$ \\displaystyle H_{\\rm{}left} = \\frac{2}{2}\\left(1\\!-\\!\\frac{2}{2}\\right) + \\frac{0}{2}\\left(1\\!-\\!\\frac{0}{2}\\right) + \\frac{0}{2}\\left(1\\!-\\!\\frac{0}{2}\\right)= 0$\n",
    "\n",
    ">$ \\displaystyle H_{\\rm{}right} = \\frac{3}{6}\\left(1\\!-\\!\\frac{3}{6}\\right) \n",
    "     + \\frac{2}{6}\\left(1\\!-\\!\\frac{2}{6}\\right) \n",
    "     + \\frac{1}{6}\\left(1\\!-\\!\\frac{1}{6}\\right) $ \n",
    " $ \\displaystyle = \\frac{9}{36}\n",
    "     + \\frac{8}{36}\n",
    "     + \\frac{5}{36}\n",
    "     = \\frac{11}{18} $ $\\approx 0.61111111$\n",
    "\n",
    "> Cf. numbers above\n",
    "\n",
    "- Note importance of weighting by partition sizes!\n",
    "\n",
    "     \n",
    "### Impurity of partitions after second split\n",
    "- Threshhold: 0 on feature -2. Dummy variable means no further split on this partition.\n",
    ">$ \\displaystyle H_{\\rm{}root.left.left} = None$<br>\n",
    ">$ \\displaystyle H_{\\rm{}root.left.right} = None$\n",
    "- Threshhold: 0.15 on feature 1\n",
    ">$ \\displaystyle H_{\\rm{}root.right.left} = \\frac{3}{4}\\left(1\\!-\\!\\frac{3}{4}\\right) \n",
    "     + \\frac{1}{4}\\left(1\\!-\\!\\frac{1}{4}\\right) \n",
    "     + \\frac{0}{4}\\left(1\\!-\\!\\frac{0}{4}\\right) $ \n",
    " $ \\displaystyle = \\frac{3}{16}\n",
    "     + \\frac{3}{16}\n",
    "     + \\frac{0}{16}\n",
    "     = \\frac{6}{16} $ $= 0.375$<br>\n",
    ">$ \\displaystyle H_{\\rm{}root.right.right} = \\frac{1}{2}\\left(1\\!-\\!\\frac{1}{2}\\right) \n",
    "     + \\frac{1}{2}\\left(1\\!-\\!\\frac{1}{2}\\right) \n",
    "     + \\frac{0}{2}\\left(1\\!-\\!\\frac{0}{2}\\right) $ \n",
    " $ \\displaystyle = \\frac{1}{4}\n",
    "     + \\frac{1}{4}\n",
    "     + \\frac{0}{4}\n",
    "     = \\frac{1}{2} $ $= 0.5$\n",
    "\n",
    "### And so on\n",
    "### Check answer below"
   ]
  },
  {
   "cell_type": "code",
   "execution_count": 16,
   "metadata": {},
   "outputs": [
    {
     "name": "stdout",
     "output_type": "stream",
     "text": [
      "[8 2 6 4 2]\n",
      "[0.59375    0.         0.61111111 0.375      0.5       ]\n",
      "[ 0 -2  1 -2 -2]\n",
      "[ 0.94999999 -2.          0.15       -2.         -2.        ]\n"
     ]
    }
   ],
   "source": [
    "from sklearn import tree\n",
    "clf = tree.DecisionTreeClassifier(max_depth=2)\n",
    "clf.fit(X,c)\n",
    "\n",
    "print (clf.tree_.n_node_samples)\n",
    "print (clf.tree_.impurity)\n",
    "print (clf.tree_.feature)\n",
    "print (clf.tree_.threshold)"
   ]
  },
  {
   "cell_type": "code",
   "execution_count": 24,
   "metadata": {},
   "outputs": [
    {
     "data": {
      "image/png": "[encoded data removed]",
      "text/plain": [
       "<Figure size 216x216 with 1 Axes>"
      ]
     },
     "metadata": {
      "needs_background": "light"
     },
     "output_type": "display_data"
    }
   ],
   "source": [
    "h = 0.01\n",
    "x,y = np.meshgrid(np.arange(X[:,0].min()-.5, X[:,0].max()+.5, h),\n",
    "               np.arange(X[:,1].min()-.5, X[:,1].max()+.5, h))\n",
    "grid = np.c_[x.ravel(),y.ravel()]\n",
    "\n",
    "# decision-surfaces as fn of max depth\n",
    "clf = tree.DecisionTreeClassifier(max_depth=2)\n",
    "z = clf.fit(X,c).predict(grid).reshape(x.shape)\n",
    "plt.figure(figsize=(3,3)); plt.subplot(111,aspect='equal')\n",
    "plt.contourf(x, y, z, cmap='Spectral_r')\n",
    "plt.scatter(X[:,0], X[:,1], c=c, cmap='brg');"
   ]
  },
  {
   "cell_type": "markdown",
   "metadata": {},
   "source": [
    "# Advantages and disadvantages for decision tree classifier\n",
    "\n",
    "### Advantages  \n",
    "Advantage 1: Decision trees implicitly perform variable screening or feature selection       \n",
    "Advantage 2: Decision trees require relatively little effort from users for data preparation   \n",
    "Advantage 3: Nonlinear relationships between parameters do not affect tree performance   \n",
    "Advantage 4: The best feature of using trees for analytics - easy to interpret and explain to executives!\n",
    "    \n",
    "### Disadvantages\n",
    "1.Instability:     \n",
    "The reliability of the information in the decision tree depends on feeding the precise internal and external information at the onset. Even a small change in input data can at times, cause large changes in the tree.      \n",
    "\n",
    "2.Unwieldy:               \n",
    "Decision trees, while providing easy to view illustrations, can also be unwieldy. Even data that is perfectly divided into classes and uses only simple threshold tests may require a large decision tree. Large trees are not intelligible, and pose presentation difficulties."
   ]
  },
  {
   "cell_type": "markdown",
   "metadata": {},
   "source": [
    "### Example\n",
    "\n",
    "Use the sklearn routines to \n",
    "\n",
    "- Load the iris dataset and use the first 2 features\n",
    "- Run the decision tree classifier with different depths\n",
    "- Use cross-validation and plot the results"
   ]
  },
  {
   "cell_type": "code",
   "execution_count": 25,
   "metadata": {},
   "outputs": [
    {
     "name": "stdout",
     "output_type": "stream",
     "text": [
      "New classes: [0 1]\n",
      "New data: (100, 2)\n"
     ]
    }
   ],
   "source": [
    "from sklearn import datasets\n",
    "\n",
    "iris = datasets.load_iris()\n",
    "X = iris.data[:,:2] # only first 2 features\n",
    "c = iris.target[:] # copy\n",
    "subset = c<2 # classes 0 and 1\n",
    "X,c = X[subset,:], c[subset]\n",
    "\n",
    "print ('New classes:', np.unique(c))\n",
    "print ('New data:', X.shape)"
   ]
  },
  {
   "cell_type": "code",
   "execution_count": 26,
   "metadata": {},
   "outputs": [
    {
     "data": {
      "image/png": "[encoded data removed]",
      "text/plain": [
       "<Figure size 432x288 with 1 Axes>"
      ]
     },
     "metadata": {
      "needs_background": "light"
     },
     "output_type": "display_data"
    }
   ],
   "source": [
    "plt.subplot(111,aspect='equal'); \n",
    "plt.scatter(X[:,0],X[:,1],c=c,cmap='brg');"
   ]
  },
  {
   "cell_type": "code",
   "execution_count": 27,
   "metadata": {},
   "outputs": [
    {
     "data": {
      "image/png": "[encoded data removed]",
      "text/plain": [
       "<Figure size 216x216 with 1 Axes>"
      ]
     },
     "metadata": {
      "needs_background": "light"
     },
     "output_type": "display_data"
    },
    {
     "data": {
      "image/png": "[encoded data removed]",
      "text/plain": [
       "<Figure size 216x216 with 1 Axes>"
      ]
     },
     "metadata": {
      "needs_background": "light"
     },
     "output_type": "display_data"
    },
    {
     "data": {
      "image/png": "[encoded data removed]",
      "text/plain": [
       "<Figure size 216x216 with 1 Axes>"
      ]
     },
     "metadata": {
      "needs_background": "light"
     },
     "output_type": "display_data"
    },
    {
     "data": {
      "image/png": "[encoded data removed]",
      "text/plain": [
       "<Figure size 216x216 with 1 Axes>"
      ]
     },
     "metadata": {
      "needs_background": "light"
     },
     "output_type": "display_data"
    }
   ],
   "source": [
    "# grid of points within the limits\n",
    "h = 0.01\n",
    "x,y = np.meshgrid(np.arange(X[:,0].min()-.5, X[:,0].max()+.5, h),\n",
    "               np.arange(X[:,1].min()-.5, X[:,1].max()+.5, h))\n",
    "grid = np.c_[x.ravel(),y.ravel()]\n",
    "\n",
    "# decision-surfaces as fn of max depth\n",
    "for depth in range(1,5):\n",
    "    clf = tree.DecisionTreeClassifier(max_depth=depth)\n",
    "    z = clf.fit(X,c).predict(grid).reshape(x.shape)\n",
    "    plt.figure(figsize=(3,3)); plt.subplot(111,aspect='equal')\n",
    "    plt.contourf(x, y, z, cmap='Spectral_r')\n",
    "    plt.scatter(X[:,0], X[:,1], c=c, cmap='gray');"
   ]
  },
  {
   "cell_type": "code",
   "execution_count": 28,
   "metadata": {},
   "outputs": [
    {
     "data": {
      "text/plain": [
       "array([1. , 0.8, 0.8, 0.8, 1. , 1. , 0.8, 0.9, 0.9, 0.9])"
      ]
     },
     "execution_count": 28,
     "metadata": {},
     "output_type": "execute_result"
    }
   ],
   "source": [
    "# k-fold cross-validation \n",
    "from sklearn.model_selection import cross_val_score, KFold\n",
    "clf = tree.DecisionTreeClassifier(max_depth=1)\n",
    "cross_val_score(clf, X,c, cv=10)"
   ]
  },
  {
   "cell_type": "code",
   "execution_count": 29,
   "metadata": {},
   "outputs": [
    {
     "name": "stdout",
     "output_type": "stream",
     "text": [
      "0 :\t 1.0 \t= 1.0\n",
      "1 :\t 0.8 \t= 0.8\n",
      "2 :\t 0.9 \t= 0.9\n",
      "3 :\t 0.9 \t= 0.9\n",
      "4 :\t 1.0 \t= 1.0\n",
      "5 :\t 0.9 \t= 0.9\n",
      "6 :\t 1.0 \t= 1.0\n",
      "7 :\t 0.7 \t= 0.7\n",
      "8 :\t 0.9 \t= 0.9\n",
      "9 :\t 0.8 \t= 0.8\n"
     ]
    }
   ],
   "source": [
    "# also by hand\n",
    "k_fold = KFold(n_splits=10,shuffle=True,random_state=42) \n",
    "for k, (train, test) in enumerate(k_fold.split(X)):\n",
    "    cpred = clf.fit(X[train],c[train]).predict(X[test])\n",
    "    print (k, ':\\t', (c[test]==cpred).sum() / float(test.size),\n",
    "        '\\t=', clf.score(X[test],c[test]) )"
   ]
  },
  {
   "cell_type": "code",
   "execution_count": 46,
   "metadata": {},
   "outputs": [
    {
     "name": "stdout",
     "output_type": "stream",
     "text": [
      "1 0.8875 0.1186585905491512\n",
      "2 0.95 0.1274754878398196\n",
      "3 0.95 0.1274754878398196\n",
      "4 0.95 0.1274754878398196\n"
     ]
    }
   ],
   "source": [
    "# quality as fn of max depth\n",
    "for depth in range(1,5):\n",
    "    clf = tree.DecisionTreeClassifier(max_depth=depth)\n",
    "    s = cross_val_score(clf, X,c, cv=20)\n",
    "    ## fix the comparisons?\n",
    "    print (depth, s.mean(), s.std())"
   ]
  },
  {
   "cell_type": "code",
   "execution_count": 45,
   "metadata": {},
   "outputs": [
    {
     "name": "stdout",
     "output_type": "stream",
     "text": [
      "1 0.89 0.09433981132056604 0.7\n",
      "2 0.95 0.06708203932499368 0.8\n",
      "3 0.95 0.06708203932499368 0.8\n",
      "4 0.95 0.06708203932499368 0.8\n"
     ]
    }
   ],
   "source": [
    "from sklearn.model_selection import KFold\n",
    "k_fold = KFold(n_splits=10,shuffle=True,random_state=42) \n",
    "\n",
    "scores = dict() # store the cv score of each split\n",
    "for train, test in k_fold.split(X):\n",
    "    for depth in range(1,5):\n",
    "        clf = tree.DecisionTreeClassifier(max_depth=depth)\n",
    "        clf.fit(X[train],c[train])\n",
    "        score = clf.score(X[test],c[test])\n",
    "        if depth not in scores: scores[depth] = [] # empty \n",
    "        scores[depth].append(score) # list for this depth\n",
    "\n",
    "for depth in scores:\n",
    "    s = np.array(scores[depth])\n",
    "    print (depth, s.mean(), s.std(), s.min())"
   ]
  },
  {
   "cell_type": "markdown",
   "metadata": {},
   "source": [
    "# <h1><font color=\"darkblue\">Random Forest</font></h1>\n",
    "\n",
    "### Random Tree\n",
    "\n",
    "- Hard to pick the *best* in high dimensions (i.e., very expensive)\n",
    "\n",
    "> Instead we pick a number of random directions to search<br/>\n",
    "> and take the optimal split among those\n",
    "\n",
    "- A randomized tree will not be optimal but much faster to build\n",
    "\n",
    "We assume that the user knows about the construction of single classification trees. Random Forests grows many classification trees. To classify a new object from an input vector, put the input vector down each of the trees in the forest. Each tree gives a classification, and we say the tree \"votes\" for that class. The forest chooses the classification having the most votes (over all the trees in the forest). \n",
    "\n",
    "####  forest error rate \n",
    "it was shown that the forest error rate depends on two things:      \n",
    "(1)The correlation between any two trees in the forest. Increasing the correlation increases the forest error rate.     \n",
    "(2)The strength of each individual tree in the forest. A tree with a low error rate is a strong classifier. Increasing the strength of the individual trees decreases the forest error rate.    \n",
    "Reducing m reduces both the correlation and the strength. Increasing it increases both. Somewhere in between is an \"optimal\" range of m - usually quite wide.    \n",
    "\n",
    "#### No need for cross-validation \n",
    " In random forests, there is no need for cross-validation or a separate test set to get an unbiased estimate of the test set error. It is estimated internally. At the end of the run, take j to be the class that got most of the votes every time case n was oob. The proportion of times that j is not equal to the true class of n averaged over all cases is the oob error estimate. This has proven to be unbiased in many tests.\n",
    "#### Balancing prediction error\n",
    "In some data sets, the prediction error between classes is highly unbalanced. Some classes have a low prediction error, others a high. This occurs usually when one class is much larger than another. Then random forests, trying to minimize overall error rate, will keep the error rate low on the large class while letting the smaller classes have a larger error rate.   \n",
    "\n",
    "The error can balancing can be done by setting different weights for the classes.     \n",
    "\n",
    "The higher the weight a class is given, the more its error rate is decreased. A guide as to what weights to give is to make them inversely proportional to the class populations. \n",
    "\n",
    "#### Compare with Decision Tree\n",
    "##### Advantage\n",
    "Random forests overcome several problems with decision trees, including:     \n",
    "•Reduction in overfitting: by averaging several trees, there is a significantly lower risk of overfitting.     \n",
    "•Less variance: By using multiple trees, you reduce the chance of stumbling across a classifier that doesn’t perform well because of the relationship between the train and test data.     \n",
    "As a consequence, in almost all cases, random forests are more accurate than decision trees.   \n",
    "\n",
    "##### Disadvantage\n",
    "There are many disadvantages of using a random forest over a simple decision tree:     \n",
    "•It’s more complex.     \n",
    "•It’s hard to visualize the model or understand why it predicted something.    \n",
    "•It’s more difficult to implement.       \n",
    "•It’s more computationally expensive.  "
   ]
  },
  {
   "cell_type": "code",
   "execution_count": 44,
   "metadata": {},
   "outputs": [
    {
     "data": {
      "text/plain": [
       "Text(0.5, 0, 'Relative Importance')"
      ]
     },
     "execution_count": 44,
     "metadata": {},
     "output_type": "execute_result"
    },
    {
     "data": {
      "image/png": "[encoded data removed]",
      "text/plain": [
       "<Figure size 288x288 with 1 Axes>"
      ]
     },
     "metadata": {
      "needs_background": "light"
     },
     "output_type": "display_data"
    },
    {
     "data": {
      "image/png": "[encoded data removed]",
      "text/plain": [
       "<Figure size 432x288 with 1 Axes>"
      ]
     },
     "metadata": {
      "needs_background": "light"
     },
     "output_type": "display_data"
    }
   ],
   "source": [
    "from sklearn.ensemble import RandomForestClassifier\n",
    "from sklearn.model_selection import cross_val_score\n",
    "from sklearn import datasets\n",
    "from sklearn.ensemble import RandomForestClassifier\n",
    "from sklearn.model_selection import cross_val_score\n",
    "\n",
    "#Load dataset\n",
    "iris = datasets.load_iris()\n",
    "X = iris.data[:,:2] # only first 2 features\n",
    "c = iris.target\n",
    "subset = c<2 # classes 0 and 1\n",
    "X,c = X[subset,:], c[subset]\n",
    "\n",
    "\n",
    "# grid of points within the limits to evaluate\n",
    "h = 0.01\n",
    "x,y = np.meshgrid(np.arange(X[:,0].min()-.5, X[:,0].max()+.5, h),\n",
    "               np.arange(X[:,1].min()-.5, X[:,1].max()+.5, h))\n",
    "grid = np.c_[x.ravel(),y.ravel()]\n",
    "\n",
    "\n",
    "# Fit random forest classifier\n",
    "clf = RandomForestClassifier(n_estimators=200,max_depth=2)\n",
    "z = clf.fit(X,c).predict(grid).reshape(x.shape)\n",
    "\n",
    "# Plot the result\n",
    "plt.figure(figsize=(4,4)); plt.subplot(111,aspect='equal')\n",
    "plt.contourf(x,y,z, cmap='Spectral_r')\n",
    "plt.scatter(X[:,0],X[:,1], c=c, cmap='gray');\n",
    "\n",
    "# No need, but no harm done doing so\n",
    "cross_val_score(clf, X,c, cv=10)\n",
    "\n",
    "\n",
    "# Random forest generate feature importance\n",
    "importances =clf.feature_importances_\n",
    "indices = np.argsort(importances)\n",
    "plt.figure()\n",
    "plt.title('Feature Importances')\n",
    "plt.barh(range(len(indices)), importances[indices], color='b', align='center')\n",
    "plt.yticks(range(len(indices)), np.array(iris.feature_names)[np.argsort(importances)])\n",
    "plt.xlabel('Relative Importance')"
   ]
  }
 ],
 "metadata": {
  "kernelspec": {
   "display_name": "Python 3",
   "language": "python",
   "name": "python3"
  },
  "language_info": {
   "codemirror_mode": {
    "name": "ipython",
    "version": 3
   },
   "file_extension": ".py",
   "mimetype": "text/x-python",
   "name": "python",
   "nbconvert_exporter": "python",
   "pygments_lexer": "ipython3",
   "version": "3.6.7"
  }
 },
 "nbformat": 4,
 "nbformat_minor": 2
}
