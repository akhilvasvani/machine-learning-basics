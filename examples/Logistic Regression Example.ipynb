{
 "cells": [
  {
   "cell_type": "code",
   "execution_count": 38,
   "metadata": {},
   "outputs": [],
   "source": [
    "import pandas as pd\n",
    "import numpy as np\n",
    "from scipy import linalg\n",
    "import matplotlib.pyplot as plt\n",
    "import seaborn as sb"
   ]
  },
  {
   "cell_type": "markdown",
   "metadata": {},
   "source": [
    "<h2><font color=\"darkblue\">Logistic Regression</font></h2>\n",
    "<hr/>"
   ]
  },
  {
   "cell_type": "markdown",
   "metadata": {},
   "source": [
    "### Preliminaries"
   ]
  },
  {
   "cell_type": "markdown",
   "metadata": {},
   "source": [
    "- Sigmoid function\n",
    "> $ \\displaystyle S(x) = \\frac{1}{1+e^{-x}} = \\frac{e^x}{1+e^x} \\qquad 0 < S(x) < 1 $\n",
    "\n",
    "<img src=\"https://upload.wikimedia.org/wikipedia/commons/8/88/Logistic-curve.svg\" width=300 align=center>\n",
    "\n",
    "<p style=\"text-align:center\">(Picture from https://en.wikipedia.org/wiki/Sigmoid_function)</p>\n",
    "\n",
    "- Logit\n",
    "> $ \\displaystyle \\text{logit}(p) = \\log \\left( \\frac{p}{1-p} \\right) \\qquad 0 < p < 1 $\n",
    "\n",
    "<img src=\"https://upload.wikimedia.org/wikipedia/commons/c/c8/Logit.svg\" width=300 align=center>\n",
    "\n",
    "<p style=\"text-align:center\">(Picture from https://en.wikipedia.org/wiki/Logit)</p>\n",
    "\n",
    "- What is the relationship between them?\n",
    "> $ \\displaystyle \\text{logit}(p) = \\log \\left( \\frac{p}{1-p} \\right) \\quad \\Longrightarrow \\quad e^{\\text{logit}(p)} = \\frac{p}{1-p} \\quad \\Longrightarrow \\quad p = \\frac{e^{\\text{logit}(p)}}{1+e^{\\text{logit}(p)}} $"
   ]
  },
  {
   "cell_type": "markdown",
   "metadata": {},
   "source": [
    "### Recall Linear Regression"
   ]
  },
  {
   "cell_type": "markdown",
   "metadata": {},
   "source": [
    "- General Form\n",
    "> $ \\displaystyle Y = X \\beta + \\epsilon $\n",
    "\n",
    "- Fit (least square)\n",
    "> $ \\displaystyle \\widehat{\\beta} = (X^\\top X)^{-1} X^\\top Y $\n",
    "\n",
    "- Predict\n",
    "> $ \\displaystyle \\widehat{Y} = X \\widehat{\\beta} $\n",
    "\n",
    "- Note that $ Y $ here is usually continuous. What if we have $ Y $ that is categorical, for example $ \\displaystyle Y \\in \\{ 0, 1 \\} $"
   ]
  },
  {
   "cell_type": "code",
   "execution_count": 2,
   "metadata": {},
   "outputs": [
    {
     "name": "stdout",
     "output_type": "stream",
     "text": [
      "Features:  (100, 1)\n",
      "Target:  (100,)\n"
     ]
    }
   ],
   "source": [
    "# Generate data\n",
    "n_samples = 100\n",
    "np.random.seed(2018)\n",
    "\n",
    "x = np.random.normal(size=n_samples)\n",
    "y = (x > 0).astype(np.float)\n",
    "x[x > 0] *= 4\n",
    "x += .3 * np.random.normal(size=n_samples)\n",
    "x = x[:, np.newaxis]\n",
    "\n",
    "print('Features: ', x.shape)\n",
    "print('Target: ', y.shape)"
   ]
  },
  {
   "cell_type": "code",
   "execution_count": 3,
   "metadata": {},
   "outputs": [
    {
     "data": {
      "image/png": "[encoded data removed]",
      "text/plain": [
       "<Figure size 432x288 with 1 Axes>"
      ]
     },
     "metadata": {
      "needs_background": "light"
     },
     "output_type": "display_data"
    }
   ],
   "source": [
    "plt.scatter(x, y, color='black');"
   ]
  },
  {
   "cell_type": "markdown",
   "metadata": {},
   "source": [
    "- For this example, if we fit a linear regression model\n",
    "> $ \\displaystyle y = \\beta_0 + \\beta_1 x + \\epsilon $\n",
    ">\n",
    "> $ \\displaystyle \\widehat{y} = \\widehat{\\beta}_0 + \\widehat{\\beta}_1 x $"
   ]
  },
  {
   "cell_type": "code",
   "execution_count": 4,
   "metadata": {},
   "outputs": [],
   "source": [
    "# Fit a linear regression model\n",
    "XX = np.ones((x.shape[0], 2))\n",
    "XX[:,1] = x.ravel()\n",
    "bHat = linalg.inv(XX.T.dot(XX)).dot(XX.T).dot(y)\n",
    "b0, b1 = bHat"
   ]
  },
  {
   "cell_type": "code",
   "execution_count": 5,
   "metadata": {},
   "outputs": [
    {
     "data": {
      "image/png": "[encoded data removed]",
      "text/plain": [
       "<Figure size 432x288 with 1 Axes>"
      ]
     },
     "metadata": {
      "needs_background": "light"
     },
     "output_type": "display_data"
    }
   ],
   "source": [
    "X_test = np.linspace(-5, 10, 300)\n",
    "\n",
    "plt.plot(X_test, b0 + b1 * X_test, linewidth=1);\n",
    "plt.scatter(x, y, color='black');"
   ]
  },
  {
   "cell_type": "markdown",
   "metadata": {},
   "source": [
    "### Logistic Regression (Binary)"
   ]
  },
  {
   "cell_type": "markdown",
   "metadata": {},
   "source": [
    "- General Form\n",
    "> $ \\displaystyle \\text{logit} \\left[ \\pi(x) \\right] = \\log \\left[ \\frac{\\pi(x)}{1-\\pi(x)} \\right] = \\beta_0 + \\beta_1 x \\qquad $ where $ \\displaystyle \\qquad \\pi(x) = \\mathbb{P}(y=1 \\ | \\ X = x) $\n",
    "\n",
    "- Fit (maximum likelihood)\n",
    "> $ \\displaystyle \\mathcal{L}(\\beta_0, \\beta_1) = \\prod\\limits_{i: y_i = 1} \\pi(x_i; \\beta_0, \\beta_1) \\prod\\limits_{j: y_{j} = 0} [1 - \\pi(x_j; \\beta_0, \\beta_1)] $\n",
    ">\n",
    "> $ \\displaystyle l(\\beta_0, \\beta_1) = \\log \\mathcal{L}(\\beta_0, \\beta_1) = \\sum_{i=1}^{n} \\left[y_i \\log \\pi(x_i; \\beta_0, \\beta_1) + (1-y_i) \\log(1-\\pi(x_i; \\beta_0, \\beta_1)) \\right] = \\sum_{i=1}^{n} \\left[y_i (\\beta_0 + \\beta_1 x_i) - \\log (1 + \\exp (\\beta_0 + \\beta_1 x_i))  \\right] $\n",
    ">\n",
    "> $ \\displaystyle \\widehat{\\beta}_0, \\widehat{\\beta}_1 = \\arg \\max_{\\beta_0, \\beta_1} l(\\beta_0, \\beta_1) $\n",
    "\n",
    "- Predict\n",
    "> $ \\displaystyle \\widehat{\\pi}(x) = \\frac{\\exp \\left( \\widehat{\\beta}_0 + \\widehat{\\beta}_1 x \\right)}{1 + \\exp \\left( \\widehat{\\beta}_0 + \\widehat{\\beta}_1 x \\right) } $"
   ]
  },
  {
   "cell_type": "code",
   "execution_count": 6,
   "metadata": {},
   "outputs": [
    {
     "data": {
      "image/png": "[encoded data removed]",
      "text/plain": [
       "<Figure size 432x288 with 1 Axes>"
      ]
     },
     "metadata": {
      "needs_background": "light"
     },
     "output_type": "display_data"
    }
   ],
   "source": [
    "plt.scatter(x, y, color='black');"
   ]
  },
  {
   "cell_type": "markdown",
   "metadata": {},
   "source": [
    "- For the same example above, if we fit a logistic regression model\n",
    "> $ \\displaystyle \\text{logit}(y) = \\log \\left( \\frac{y}{1-y} \\right) = \\beta_0 + \\beta_1 x $\n",
    ">\n",
    "> $ \\displaystyle \\widehat{y} = \\frac{\\exp \\left( \\widehat{\\beta}_0 + \\widehat{\\beta}_1 x \\right)}{1 + \\exp \\left( \\widehat{\\beta}_0 + \\widehat{\\beta}_1 x \\right) } $\n",
    "- The above $\\text{logit}(y)$ is called a link function, there exists other link functions such as probit function and complementary log-log function:\n",
    "> $ \\displaystyle \\text{probit}(y) = \\Phi^{-1}(y) = \\beta_0 + \\beta_1 x $\n",
    "> \n",
    "> $ \\displaystyle \\text{log-log}(y) = \\log(-\\log(1-y)) = \\beta_0 + \\beta_1 x $"
   ]
  },
  {
   "cell_type": "code",
   "execution_count": 7,
   "metadata": {},
   "outputs": [],
   "source": [
    "from sklearn.linear_model import LogisticRegression"
   ]
  },
  {
   "cell_type": "code",
   "execution_count": 8,
   "metadata": {},
   "outputs": [
    {
     "data": {
      "text/plain": [
       "LogisticRegression(C=100000.0, class_weight=None, dual=False,\n",
       "          fit_intercept=True, intercept_scaling=1, max_iter=100,\n",
       "          multi_class='warn', n_jobs=None, penalty='l2', random_state=None,\n",
       "          solver='liblinear', tol=0.0001, verbose=0, warm_start=False)"
      ]
     },
     "execution_count": 8,
     "metadata": {},
     "output_type": "execute_result"
    }
   ],
   "source": [
    "# Fit a logistic regression model\n",
    "clf = LogisticRegression(C=1e5, solver='liblinear') #used for just two classes\n",
    "clf.fit(x, y)"
   ]
  },
  {
   "cell_type": "code",
   "execution_count": 9,
   "metadata": {},
   "outputs": [],
   "source": [
    "def Sigmoid(x):\n",
    "    return 1 / (1 + np.exp(-x))"
   ]
  },
  {
   "cell_type": "code",
   "execution_count": 10,
   "metadata": {},
   "outputs": [
    {
     "data": {
      "image/png": "[encoded data removed]",
      "text/plain": [
       "<Figure size 432x288 with 1 Axes>"
      ]
     },
     "metadata": {
      "needs_background": "light"
     },
     "output_type": "display_data"
    }
   ],
   "source": [
    "# Predict\n",
    "prob = Sigmoid(clf.intercept_ + clf.coef_ * X_test).ravel()\n",
    "\n",
    "# Plot the result\n",
    "plt.plot(X_test, prob, color='red', linewidth=3)\n",
    "plt.plot(X_test, b0 + b1 * X_test, color='blue', linewidth=1);\n",
    "plt.scatter(x, y, color='black');\n",
    "plt.axhline(0.5, color='0.5');\n",
    "plt.ylim(-0.25, 1.25);\n",
    "plt.yticks([0, 0.5, 1]);\n",
    "plt.legend(('Logistic Regression Model', 'Linear Regression Model'), loc='lower right');"
   ]
  },
  {
   "cell_type": "markdown",
   "metadata": {},
   "source": [
    "- **Note:** For `LogisticRegression` in scikit-learn, it minimizes a cost function with some regularization\n",
    "> $ \\displaystyle \\min_{\\omega, c} \\frac{1}{2} \\omega^\\top \\omega + C \\sum_{i=1}^{n} \\log \\left[ \\exp \\left( -y_i \\left( X_i^\\top \\omega + c \\right) \\right) + 1 \\right] \\qquad L_2 \\text{-regularization} $ \n",
    ">\n",
    "> $ \\displaystyle \\min_{\\omega, c} \\lvert\\lvert \\omega \\rvert\\rvert_1 + C \\sum_{i=1}^{n} \\log \\left[ \\exp \\left( -y_i \\left( X_i^\\top \\omega + c \\right) \\right) + 1 \\right] \\qquad L_1 \\text{-regularization} $ \n",
    "\n",
    "[References](http://scikit-learn.org/stable/modules/linear_model.html#logistic-regression)"
   ]
  },
  {
   "cell_type": "markdown",
   "metadata": {},
   "source": [
    "### Logistic Regression (Multinomial)"
   ]
  },
  {
   "cell_type": "markdown",
   "metadata": {},
   "source": [
    "- General Form (K class)\n",
    "> $ \\displaystyle \\log \\left[ \\frac{\\mathbb{P}(y=1 \\ | \\ X = x) }{\\mathbb{P}(y=K \\ | \\ X = x) } \\right] = \\beta_{10} + \\beta_{11} x $\n",
    ">\n",
    "> $ \\displaystyle \\log \\left[ \\frac{\\mathbb{P}(y=2 \\ | \\ X = x) }{\\mathbb{P}(y=K \\ | \\ X = x) } \\right] = \\beta_{20} + \\beta_{21} x $\n",
    ">\n",
    "> ...\n",
    ">\n",
    "> $ \\displaystyle \\log \\left[ \\frac{\\mathbb{P}(y=K-1 \\ | \\ X = x) }{\\mathbb{P}(y=K \\ | \\ X = x) } \\right] = \\beta_{(K-1)0} + \\beta_{(K-1)1} x $\n",
    ">\n",
    "\n",
    "- Fit (maximum likelihood)\n",
    "> $ \\displaystyle l(\\beta) = \\sum_{i=1}^{n} \\log \\pi_{g_i}(x_i; \\beta) \\qquad $ where $ \\displaystyle \\qquad \\pi_{k}(x_i; \\beta) = \\mathbb{P}(y=k \\ | \\ X = x_i; \\  \\beta) $\n",
    ">\n",
    "> $ \\displaystyle \\widehat{\\beta} = \\arg \\max_{\\beta} l(\\beta) $\n",
    "\n",
    "- Predict\n",
    "> $ \\displaystyle \\mathbb{P}(y=k \\ | \\ X = x) = \\frac{\\exp (\\widehat{\\beta}_{k0} + \\widehat{\\beta}_{k1} x )}{1 + \\sum_{j=1}^{K-1} \\exp \\left( \\widehat{\\beta}_{j0} + \\widehat{\\beta}_{j1} x \\right) } \\qquad k = 1,2, \\cdots, K-1 $\n",
    ">\n",
    "> $ \\displaystyle \\mathbb{P}(y=K \\ | \\ X = x) = \\frac{1}{1 + \\sum_{j=1}^{K-1} \\exp \\left( \\widehat{\\beta}_{j0} + \\widehat{\\beta}_{j1} x \\right) } $\n",
    "\n",
    "- Example"
   ]
  },
  {
   "cell_type": "code",
   "execution_count": 83,
   "metadata": {},
   "outputs": [],
   "source": [
    "from sklearn import datasets"
   ]
  },
  {
   "cell_type": "code",
   "execution_count": 84,
   "metadata": {},
   "outputs": [
    {
     "data": {
      "text/plain": [
       "(array([0, 1, 2]), array([50, 50, 50]))"
      ]
     },
     "execution_count": 84,
     "metadata": {},
     "output_type": "execute_result"
    }
   ],
   "source": [
    "iris = datasets.load_iris()\n",
    "X = iris.data[:,:2]             # first two features\n",
    "Y = iris.target\n",
    "np.unique(Y, return_counts=True)"
   ]
  },
  {
   "cell_type": "code",
   "execution_count": 85,
   "metadata": {},
   "outputs": [
    {
     "data": {
      "text/plain": [
       "LogisticRegression(C=100000.0, class_weight=None, dual=False,\n",
       "          fit_intercept=True, intercept_scaling=1, max_iter=100,\n",
       "          multi_class='multinomial', n_jobs=None, penalty='l2',\n",
       "          random_state=None, solver='lbfgs', tol=0.0001, verbose=0,\n",
       "          warm_start=False)"
      ]
     },
     "execution_count": 85,
     "metadata": {},
     "output_type": "execute_result"
    }
   ],
   "source": [
    "# Fit the model\n",
    "model1 = LogisticRegression(C=1e5, solver='lbfgs',  multi_class='multinomial') #used for multi-class\n",
    "model1.fit(X, Y)"
   ]
  },
  {
   "cell_type": "code",
   "execution_count": 87,
   "metadata": {},
   "outputs": [
    {
     "data": {
      "text/plain": [
       "(171, 231)"
      ]
     },
     "execution_count": 87,
     "metadata": {},
     "output_type": "execute_result"
    }
   ],
   "source": [
    "# Generate data for decision boundary\n",
    "h = 0.02\n",
    "x_min, x_max = X[:,0].min() - 0.5, X[:,0].max() + 0.5\n",
    "y_min, y_max = X[:,1].min() - 0.5, X[:,1].max() + 0.5\n",
    "xx, yy = np.meshgrid(np.arange(x_min, x_max, h), np.arange(y_min, y_max, h))\n",
    "\n",
    "# Predict\n",
    "pred = model1.predict(np.c_[xx.ravel(), yy.ravel()])\n",
    "pred = pred.reshape(xx.shape)\n",
    "pred.shape"
   ]
  },
  {
   "cell_type": "code",
   "execution_count": 15,
   "metadata": {},
   "outputs": [
    {
     "data": {
      "image/png": "[encoded data removed]",
      "text/plain": [
       "<Figure size 1152x648 with 1 Axes>"
      ]
     },
     "metadata": {
      "needs_background": "light"
     },
     "output_type": "display_data"
    }
   ],
   "source": [
    "# Plot the result\n",
    "plt.figure(figsize=(16, 9))\n",
    "\n",
    "plt.pcolormesh(xx, yy, pred, cmap=plt.cm.Paired);\n",
    "plt.scatter(X[:, 0], X[:, 1], c=Y, edgecolors='k', cmap=plt.cm.Paired);\n",
    "plt.xlabel(iris.feature_names[0]);\n",
    "plt.ylabel(iris.feature_names[1]);"
   ]
  },
  {
   "cell_type": "markdown",
   "metadata": {},
   "source": [
    "<br/>\n",
    "**References**\n",
    "\n",
    "- Agresti, A. (1996). An introduction to categorical data analysis (Vol. 135). Wiley.\n",
    "- Friedman, J., Hastie, T., & Tibshirani, R. (2001). The elements of statistical learning. Springer series in statistics."
   ]
  },
  {
   "cell_type": "markdown",
   "metadata": {},
   "source": [
    "### Logistic Regression Excercise - Space Shuttle Challenger Disaster\n",
    "\n",
    "> In January of 1986, the space shuttle Challenger exploded shortly after launch. Investigation of the incident suggests that the cause of the crash maybe related to the rubber O-ring seals used in the rocket booster. O-rings are more brittle at lower temperatures and the temperature at the time of the launch was 31 degrees Farenheit.\n",
    ">\n",
    "> Can one predict the failure of the O-rings in advance? There is data regarding the failure rate of O-rings for 23 previous shuttle missions. There is 6 O-rings used for each shuttle mission, and the number of O-rings damaged for each mission recorded.\n",
    ">\n",
    "\n",
    "### Question: Assuming a multinomial model like above, what is the probability of no O-rings fails at 31 degree Farenheit? $\\mathbb{P}(y=0 | \\ X = 31$)?"
   ]
  },
  {
   "cell_type": "code",
   "execution_count": 107,
   "metadata": {},
   "outputs": [
    {
     "data": {
      "text/html": [
       "<div>\n",
       "<style scoped>\n",
       "    .dataframe tbody tr th:only-of-type {\n",
       "        vertical-align: middle;\n",
       "    }\n",
       "\n",
       "    .dataframe tbody tr th {\n",
       "        vertical-align: top;\n",
       "    }\n",
       "\n",
       "    .dataframe thead th {\n",
       "        text-align: right;\n",
       "    }\n",
       "</style>\n",
       "<table border=\"1\" class=\"dataframe\">\n",
       "  <thead>\n",
       "    <tr style=\"text-align: right;\">\n",
       "      <th></th>\n",
       "      <th>Farenheit</th>\n",
       "      <th>Number of O-rings damaged</th>\n",
       "    </tr>\n",
       "    <tr>\n",
       "      <th>Shuttle Mission Number</th>\n",
       "      <th></th>\n",
       "      <th></th>\n",
       "    </tr>\n",
       "  </thead>\n",
       "  <tbody>\n",
       "    <tr>\n",
       "      <th>1</th>\n",
       "      <td>53</td>\n",
       "      <td>5</td>\n",
       "    </tr>\n",
       "    <tr>\n",
       "      <th>2</th>\n",
       "      <td>57</td>\n",
       "      <td>1</td>\n",
       "    </tr>\n",
       "    <tr>\n",
       "      <th>3</th>\n",
       "      <td>58</td>\n",
       "      <td>1</td>\n",
       "    </tr>\n",
       "    <tr>\n",
       "      <th>4</th>\n",
       "      <td>63</td>\n",
       "      <td>1</td>\n",
       "    </tr>\n",
       "    <tr>\n",
       "      <th>5</th>\n",
       "      <td>66</td>\n",
       "      <td>0</td>\n",
       "    </tr>\n",
       "    <tr>\n",
       "      <th>6</th>\n",
       "      <td>67</td>\n",
       "      <td>0</td>\n",
       "    </tr>\n",
       "    <tr>\n",
       "      <th>7</th>\n",
       "      <td>67</td>\n",
       "      <td>0</td>\n",
       "    </tr>\n",
       "    <tr>\n",
       "      <th>8</th>\n",
       "      <td>67</td>\n",
       "      <td>0</td>\n",
       "    </tr>\n",
       "    <tr>\n",
       "      <th>9</th>\n",
       "      <td>68</td>\n",
       "      <td>0</td>\n",
       "    </tr>\n",
       "    <tr>\n",
       "      <th>10</th>\n",
       "      <td>69</td>\n",
       "      <td>0</td>\n",
       "    </tr>\n",
       "    <tr>\n",
       "      <th>11</th>\n",
       "      <td>70</td>\n",
       "      <td>1</td>\n",
       "    </tr>\n",
       "    <tr>\n",
       "      <th>12</th>\n",
       "      <td>70</td>\n",
       "      <td>0</td>\n",
       "    </tr>\n",
       "    <tr>\n",
       "      <th>13</th>\n",
       "      <td>70</td>\n",
       "      <td>1</td>\n",
       "    </tr>\n",
       "    <tr>\n",
       "      <th>14</th>\n",
       "      <td>70</td>\n",
       "      <td>0</td>\n",
       "    </tr>\n",
       "    <tr>\n",
       "      <th>15</th>\n",
       "      <td>72</td>\n",
       "      <td>0</td>\n",
       "    </tr>\n",
       "    <tr>\n",
       "      <th>16</th>\n",
       "      <td>73</td>\n",
       "      <td>0</td>\n",
       "    </tr>\n",
       "    <tr>\n",
       "      <th>17</th>\n",
       "      <td>75</td>\n",
       "      <td>0</td>\n",
       "    </tr>\n",
       "    <tr>\n",
       "      <th>18</th>\n",
       "      <td>75</td>\n",
       "      <td>1</td>\n",
       "    </tr>\n",
       "    <tr>\n",
       "      <th>19</th>\n",
       "      <td>76</td>\n",
       "      <td>0</td>\n",
       "    </tr>\n",
       "    <tr>\n",
       "      <th>20</th>\n",
       "      <td>76</td>\n",
       "      <td>0</td>\n",
       "    </tr>\n",
       "    <tr>\n",
       "      <th>21</th>\n",
       "      <td>78</td>\n",
       "      <td>0</td>\n",
       "    </tr>\n",
       "    <tr>\n",
       "      <th>22</th>\n",
       "      <td>79</td>\n",
       "      <td>0</td>\n",
       "    </tr>\n",
       "    <tr>\n",
       "      <th>23</th>\n",
       "      <td>81</td>\n",
       "      <td>0</td>\n",
       "    </tr>\n",
       "  </tbody>\n",
       "</table>\n",
       "</div>"
      ],
      "text/plain": [
       "                        Farenheit  Number of O-rings damaged\n",
       "Shuttle Mission Number                                      \n",
       "1                              53                          5\n",
       "2                              57                          1\n",
       "3                              58                          1\n",
       "4                              63                          1\n",
       "5                              66                          0\n",
       "6                              67                          0\n",
       "7                              67                          0\n",
       "8                              67                          0\n",
       "9                              68                          0\n",
       "10                             69                          0\n",
       "11                             70                          1\n",
       "12                             70                          0\n",
       "13                             70                          1\n",
       "14                             70                          0\n",
       "15                             72                          0\n",
       "16                             73                          0\n",
       "17                             75                          0\n",
       "18                             75                          1\n",
       "19                             76                          0\n",
       "20                             76                          0\n",
       "21                             78                          0\n",
       "22                             79                          0\n",
       "23                             81                          0"
      ]
     },
     "execution_count": 107,
     "metadata": {},
     "output_type": "execute_result"
    }
   ],
   "source": [
    "# Load and print the O-rings data to gain insight\n",
    "link = '/home/akhil/machine-learning-basics/data/Orings.csv'\n",
    "df = pd.read_csv(link, header=None, names=['Farenheit', 'Number of O-rings damaged'])\n",
    "df.index.names = ['Shuttle Mission Number']\n",
    "df.index +=1\n",
    "\n",
    "#df.loc[1, 'Number of O-rings damaged'] = 1\n",
    "# df.loc[1, 'Number of O-rings undamaged'] = 5\n",
    "df"
   ]
  },
  {
   "cell_type": "code",
   "execution_count": 108,
   "metadata": {},
   "outputs": [
    {
     "data": {
      "image/png": "[encoded data removed]",
      "text/plain": [
       "<Figure size 432x288 with 1 Axes>"
      ]
     },
     "metadata": {
      "needs_background": "light"
     },
     "output_type": "display_data"
    }
   ],
   "source": [
    "# Plot the data (Use Scatter) (does a linear model work here?)\n",
    "df.plot(kind='scatter', x= 'Farenheit', y = 'Number of O-rings damaged', color='r')\n",
    "\n",
    "#Define variables\n",
    "X = df['Farenheit'].values.reshape(-1, 1)\n",
    "y = df['Number of O-rings damaged']\n",
    "\n",
    "# # Fit a linear regression model\n",
    "XX = np.ones((X.shape[0], 2))\n",
    "XX[:,1] = X.ravel()\n",
    "bHat = linalg.inv(XX.T.dot(XX)).dot(XX.T).dot(y)\n",
    "b0, b1 = bHat\n",
    "\n",
    "X_test = np.linspace(50, 85, 100)\n",
    "\n",
    "plt.plot(X_test, b0 + b1 * X_test, linewidth=1);\n",
    "# Conclusion: Nope, does not work!"
   ]
  },
  {
   "cell_type": "code",
   "execution_count": 109,
   "metadata": {},
   "outputs": [
    {
     "data": {
      "text/plain": [
       "LogisticRegression(C=1.0, class_weight=None, dual=False, fit_intercept=True,\n",
       "          intercept_scaling=1, max_iter=100, multi_class='multinomial',\n",
       "          n_jobs=None, penalty='l2', random_state=None, solver='lbfgs',\n",
       "          tol=0.0001, verbose=0, warm_start=False)"
      ]
     },
     "execution_count": 109,
     "metadata": {},
     "output_type": "execute_result"
    }
   ],
   "source": [
    "# Train the model\n",
    "clf = LogisticRegression(solver='lbfgs', multi_class = 'multinomial') #used for multi-class\n",
    "clf.fit(X, y)"
   ]
  },
  {
   "cell_type": "code",
   "execution_count": 110,
   "metadata": {},
   "outputs": [
    {
     "data": {
      "text/plain": [
       "array([0.66928509])"
      ]
     },
     "execution_count": 110,
     "metadata": {},
     "output_type": "execute_result"
    }
   ],
   "source": [
    "# Prediction: the probability and of P(y = 0 | X = 31)\n",
    "pred = clf.predict(np.array([31]).reshape(-1,1))\n",
    "prob = Sigmoid(pred).ravel()\n",
    "true_prob = (1 - prob) * 100\n",
    "true_prob\n",
    "\n",
    "#The probability of no O-rings fails at 31 degree Farenheit is less than 1%. "
   ]
  },
  {
   "cell_type": "markdown",
   "metadata": {},
   "source": [
    "http://www.davidplopez.com/assets/ChallengerORingData.html"
   ]
  }
 ],
 "metadata": {
  "kernelspec": {
   "display_name": "Python 3",
   "language": "python",
   "name": "python3"
  },
  "language_info": {
   "codemirror_mode": {
    "name": "ipython",
    "version": 3
   },
   "file_extension": ".py",
   "mimetype": "text/x-python",
   "name": "python",
   "nbconvert_exporter": "python",
   "pygments_lexer": "ipython3",
   "version": "3.6.7"
  }
 },
 "nbformat": 4,
 "nbformat_minor": 2
}
